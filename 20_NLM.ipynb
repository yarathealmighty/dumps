{
  "cells": [
    {
      "cell_type": "code",
      "execution_count": null,
      "metadata": {
        "id": "pJrurjo1zTHj"
      },
      "outputs": [],
      "source": [
        "import requests\n",
        "import re\n",
        "import string\n",
        "\n",
        "import torchtext; torchtext.disable_torchtext_deprecation_warning()\n",
        "from torchtext.data.utils import get_tokenizer\n",
        "from torchtext.vocab import build_vocab_from_iterator\n",
        "from numpy import array\n",
        "from torch.utils.data import DataLoader, TensorDataset\n",
        "\n",
        "import torch\n",
        "import torch.nn as nn\n",
        "import torch.nn.functional as F"
      ]
    },
    {
      "cell_type": "code",
      "execution_count": null,
      "metadata": {
        "id": "FTUA33T8yOVp"
      },
      "outputs": [],
      "source": [
        "# book: https://www.gutenberg.org/cache/epub/1497/pg1497.txt"
      ]
    },
    {
      "cell_type": "code",
      "execution_count": null,
      "metadata": {
        "colab": {
          "base_uri": "https://localhost:8080/"
        },
        "id": "RQamaD0NygIy",
        "outputId": "a801eb67-7f46-45a3-bdbe-b9585356ed51"
      },
      "outputs": [
        {
          "name": "stdout",
          "output_type": "stream",
          "text": [
            "Download successful! The text has been saved to 'The_Republic_by_Plato.txt'.\n"
          ]
        }
      ],
      "source": [
        "url = \"https://www.gutenberg.org/ebooks/1497.txt.utf-8\"\n",
        "response = requests.get(url)\n",
        "\n",
        "if response.status_code == 200:\n",
        "    with open(\"The_Republic_by_Plato.txt\", \"w\", encoding=\"utf-8\") as file:\n",
        "        file.write(response.text)\n",
        "    print(\"Download successful! The text has been saved to 'The_Republic_by_Plato.txt'.\")\n",
        "else:\n",
        "    print(f\"Error downloading the file. Status code: {response.status_code}\")"
      ]
    },
    {
      "cell_type": "code",
      "execution_count": null,
      "metadata": {
        "id": "QbZXhWvtzR0h"
      },
      "outputs": [],
      "source": [
        "def load_doc(filename):\n",
        "  file = open(filename, 'r')\n",
        "  text = file.read()\n",
        "  file.close()\n",
        "  return text\n",
        "\n",
        "def clean_doc(doc):\n",
        "  doc = doc.replace('--', ' ')\n",
        "  tokens = doc.split()\n",
        "  re_punc = re.compile('[%s]' % re.escape(string.punctuation))\n",
        "  tokens = [re_punc.sub('', w) for w in tokens]\n",
        "  tokens = [word for word in tokens if word.isalpha()]\n",
        "  tokens = [word.lower() for word in tokens]\n",
        "  return tokens\n",
        "\n",
        "def save_doc(lines, filename):\n",
        "  data = '\\n'.join(lines)\n",
        "  file = open(filename, 'w')\n",
        "  file.write(data)\n",
        "  file.close()\n",
        "\n",
        "def load_doc(filename):\n",
        "  file = open(filename, 'r')\n",
        "  text = file.read()\n",
        "  file.close()\n",
        "  return text"
      ]
    },
    {
      "cell_type": "code",
      "execution_count": null,
      "metadata": {
        "colab": {
          "base_uri": "https://localhost:8080/",
          "height": 35
        },
        "id": "4sFtfSjKzf4o",
        "outputId": "e7350c5b-6e2c-4fcf-f5b3-5c2bea4c00b3"
      },
      "outputs": [
        {
          "data": {
            "application/vnd.google.colaboratory.intrinsic+json": {
              "type": "string"
            },
            "text/plain": [
              "'BOOK I.\\n\\n\\nI went down yesterday to the Piraeus with Glaucon the son of Ariston,\\nthat I might offer up my prayers to the goddess (Bendis, the Thracian\\nArtemis.); and also because I wanted to see in wha'"
            ]
          },
          "execution_count": 5,
          "metadata": {},
          "output_type": "execute_result"
        }
      ],
      "source": [
        "FILENAME = 'The_Republic_by_Plato.txt'\n",
        "doc = load_doc(FILENAME)\n",
        "tmp_string = 'introduced in the Timaeus.'\n",
        "start = doc.find(tmp_string) + len(tmp_string)\n",
        "end = doc.find('*** END OF THE PROJECT GUTENBERG EBOOK THE REPUBLIC ***')\n",
        "doc = doc[start:end].strip()\n",
        "doc[:200]"
      ]
    },
    {
      "cell_type": "code",
      "execution_count": null,
      "metadata": {
        "colab": {
          "base_uri": "https://localhost:8080/"
        },
        "id": "cYyz1z8NzruI",
        "outputId": "e12bff5e-f43a-4cbf-84ea-816e0f8c73ff"
      },
      "outputs": [
        {
          "name": "stdout",
          "output_type": "stream",
          "text": [
            "['book', 'i', 'i', 'went', 'down', 'yesterday', 'to', 'the', 'piraeus', 'with', 'glaucon', 'the', 'son', 'of', 'ariston', 'that', 'i', 'might', 'offer', 'up', 'my', 'prayers', 'to', 'the', 'goddess', 'bendis', 'the', 'thracian', 'artemis', 'and', 'also', 'because', 'i', 'wanted', 'to', 'see', 'in', 'what', 'manner', 'they', 'would', 'celebrate', 'the', 'festival', 'which', 'was', 'a', 'new', 'thing', 'i', 'was', 'delighted', 'with', 'the', 'procession', 'of', 'the', 'inhabitants', 'but', 'that', 'of', 'the', 'thracians', 'was', 'equally', 'if', 'not', 'more', 'beautiful', 'when', 'we', 'had', 'finished', 'our', 'prayers', 'and', 'viewed', 'the', 'spectacle', 'we', 'turned', 'in', 'the', 'direction', 'of', 'the', 'city', 'and', 'at', 'that', 'instant', 'polemarchus', 'the', 'son', 'of', 'cephalus', 'chanced', 'to', 'catch', 'sight', 'of', 'us', 'from', 'a', 'distance', 'as', 'we', 'were', 'starting', 'on', 'our', 'way', 'home', 'and', 'told', 'his', 'servant', 'to', 'run', 'and', 'bid', 'us', 'wait', 'for', 'him', 'the', 'servant', 'took', 'hold', 'of', 'me', 'by', 'the', 'cloak', 'behind', 'and', 'said', 'polemarchus', 'desires', 'you', 'to', 'wait', 'i', 'turned', 'round', 'and', 'asked', 'him', 'where', 'his', 'master', 'was', 'there', 'he', 'is', 'said', 'the', 'youth', 'coming', 'after', 'you', 'if', 'you', 'will', 'only', 'wait', 'certainly', 'we', 'will', 'said', 'glaucon', 'and', 'in', 'a', 'few', 'minutes', 'polemarchus', 'appeared', 'and', 'with', 'him', 'adeimantus', 'brother', 'niceratus', 'the', 'son', 'of', 'nicias', 'and', 'several', 'others', 'who', 'had', 'been', 'at', 'the', 'procession', 'polemarchus', 'said', 'to']\n",
            "Total Tokens: 117342\n",
            "Unique Tokens: 7323\n"
          ]
        }
      ],
      "source": [
        "# clean\n",
        "tokens = clean_doc(doc)\n",
        "print(tokens[:200])\n",
        "print('Total Tokens: %d' % len(tokens))\n",
        "print('Unique Tokens: %d' % len(set(tokens)))"
      ]
    },
    {
      "cell_type": "code",
      "execution_count": null,
      "metadata": {
        "colab": {
          "base_uri": "https://localhost:8080/"
        },
        "id": "0yi0RyHN4Ml5",
        "outputId": "1e12f57f-61ad-4ea3-f5a0-d4de4a5761d2"
      },
      "outputs": [
        {
          "name": "stdout",
          "output_type": "stream",
          "text": [
            "Total Sequences: 117291\n"
          ]
        }
      ],
      "source": [
        "# sequences\n",
        "length = 50 + 1\n",
        "sequences = list()\n",
        "for i in range(length, len(tokens)):\n",
        "  seq = tokens[i-length:i]\n",
        "  line = ' '.join(seq)\n",
        "  sequences.append(line)\n",
        "print('Total Sequences: %d' % len(sequences))"
      ]
    },
    {
      "cell_type": "code",
      "execution_count": null,
      "metadata": {
        "id": "MeJcOPTo4Zd5"
      },
      "outputs": [],
      "source": [
        "# save\n",
        "out_filename = 'republic_sequences.txt'\n",
        "save_doc(sequences, out_filename)"
      ]
    },
    {
      "cell_type": "code",
      "execution_count": null,
      "metadata": {
        "id": "-3kg9ffG4ivS"
      },
      "outputs": [],
      "source": [
        "# load\n",
        "in_filename = 'republic_sequences.txt'\n",
        "doc = load_doc(in_filename)\n",
        "lines = doc.split('\\n')"
      ]
    },
    {
      "cell_type": "code",
      "execution_count": null,
      "metadata": {
        "id": "a9fXNnG34xeZ"
      },
      "outputs": [],
      "source": [
        "# tokenizer\n",
        "tokenizer = get_tokenizer('basic_english')\n",
        "tokens = [tokenizer(text) for text in lines]\n",
        "tokens = array(tokens)\n",
        "vocab = build_vocab_from_iterator(tokens)\n",
        "vocab_size = len(vocab)"
      ]
    },
    {
      "cell_type": "code",
      "execution_count": null,
      "metadata": {
        "id": "o8t4Mz4M4ymx"
      },
      "outputs": [],
      "source": [
        "sequences = [vocab(tokenizer(line)) for line in lines]"
      ]
    },
    {
      "cell_type": "code",
      "execution_count": null,
      "metadata": {
        "id": "7-tiR-NO5nMR"
      },
      "outputs": [],
      "source": [
        "# separate into input and output\n",
        "sequences = array(sequences)\n",
        "X, y = sequences[:,:-1], sequences[:,-1]\n",
        "\n",
        "y_tensor = torch.tensor(y)\n",
        "X_tensor = torch.tensor(X)\n",
        "\n",
        "y_ohe = F.one_hot(y_tensor,num_classes=vocab_size)\n",
        "y_ohe = y_ohe.float()\n",
        "seq_length = X.shape[1]"
      ]
    },
    {
      "cell_type": "code",
      "execution_count": null,
      "metadata": {
        "colab": {
          "base_uri": "https://localhost:8080/"
        },
        "id": "hr2fTs408PPy",
        "outputId": "2af45c72-9dfc-4b2b-d266-2989723a54ae"
      },
      "outputs": [
        {
          "name": "stdout",
          "output_type": "stream",
          "text": [
            "torch.Size([117291, 7323])\n",
            "torch.Size([117291, 50])\n"
          ]
        }
      ],
      "source": [
        "print(y_ohe.shape)\n",
        "print(X_tensor.shape)"
      ]
    },
    {
      "cell_type": "code",
      "execution_count": null,
      "metadata": {
        "id": "KAdGjnzn82ir"
      },
      "outputs": [],
      "source": [
        "class LM(nn.Module):\n",
        "  def __init__(self,vocab_size):\n",
        "    super(LM,self).__init__()\n",
        "    self.embed = nn.Embedding(vocab_size,50)\n",
        "    self.lstm1 = nn.LSTM(50,100,batch_first=True)\n",
        "    self.lstm2 = nn.LSTM(100,100, batch_first=True)\n",
        "    self.lin1 = nn.Linear(100,100)\n",
        "    self.relu = nn.ReLU()\n",
        "    self.lin2 = nn.Linear(100,vocab_size)\n",
        "    self.softmax = nn.Softmax(dim=1)\n",
        "\n",
        "  def forward(self,input):\n",
        "    embedded = self.embed(input)\n",
        "    lstm_out1, _ = self.lstm1(embedded)\n",
        "    lstm_out2, _ = self.lstm2(lstm_out1)\n",
        "    h1 = self.relu(self.lin1(lstm_out2[:,-1,:]))\n",
        "    h2 = self.lin2(h1)\n",
        "    output = self.softmax(h2)\n",
        "    return output"
      ]
    },
    {
      "cell_type": "code",
      "execution_count": null,
      "metadata": {
        "id": "bx9Lpz4pErmk"
      },
      "outputs": [],
      "source": [
        "dataset = TensorDataset(X_tensor, y_ohe)\n",
        "# TODO ő bajos lehet\n",
        "dataloader = DataLoader(dataset, batch_size=2, shuffle=True)"
      ]
    },
    {
      "cell_type": "code",
      "source": [
        "# note: valamiért nagyon nagyon hosszú a tanitás, de megintcsak torchtext miatt el vagyok akadva"
      ],
      "metadata": {
        "id": "56jnB0v4jzK-"
      },
      "execution_count": null,
      "outputs": []
    },
    {
      "cell_type": "code",
      "execution_count": null,
      "metadata": {
        "colab": {
          "background_save": true,
          "base_uri": "https://localhost:8080/"
        },
        "id": "z-XFlu7iCUy6",
        "outputId": "a5b19940-0fce-4333-fd66-6678d3c10d48"
      },
      "outputs": [
        {
          "name": "stdout",
          "output_type": "stream",
          "text": [
            "Epoch [1/5], Loss: 8.8990\n",
            "Epoch [2/5], Loss: 8.8990\n"
          ]
        }
      ],
      "source": [
        "model = LM(vocab_size)\n",
        "\n",
        "criterion = nn.CrossEntropyLoss()\n",
        "optimizer = torch.optim.Adam(model.parameters(), lr=0.001)\n",
        "\n",
        "num_epochs = 5\n",
        "\n",
        "# train\n",
        "for epoch in range(num_epochs):\n",
        "    model.train()\n",
        "    for X_batch, y_batch in dataloader:\n",
        "\n",
        "        outputs = model(X_batch)\n",
        "\n",
        "        loss = criterion(outputs,y_batch)\n",
        "\n",
        "        optimizer.zero_grad()\n",
        "        loss.backward()\n",
        "        optimizer.step()\n",
        "\n",
        "    if (epoch + 1) % 1 == 0:\n",
        "        print(f'Epoch [{epoch + 1}/{num_epochs}], Loss: {loss.item():.4f}')\n",
        "\n",
        "# eval\n",
        "with torch.no_grad():\n",
        "    model.eval()\n",
        "    X_tensor = dataset.data\n",
        "    y_tensor = dataset.labels\n",
        "\n",
        "    outputs = model(X_tensor)\n",
        "    _, predicted = torch.max(outputs, 1)\n",
        "    accuracy = (predicted == y_tensor).float().mean()\n",
        "    print('Accuracy: %f' % (accuracy.item() * 100))"
      ]
    },
    {
      "cell_type": "code",
      "execution_count": null,
      "metadata": {
        "id": "HSnCXQMvEQEL"
      },
      "outputs": [],
      "source": []
    }
  ],
  "metadata": {
    "colab": {
      "provenance": [],
      "authorship_tag": "ABX9TyMuH7FbyyWXb+5jUJ8H72G2"
    },
    "kernelspec": {
      "display_name": "Python 3",
      "name": "python3"
    },
    "language_info": {
      "name": "python"
    }
  },
  "nbformat": 4,
  "nbformat_minor": 0
}